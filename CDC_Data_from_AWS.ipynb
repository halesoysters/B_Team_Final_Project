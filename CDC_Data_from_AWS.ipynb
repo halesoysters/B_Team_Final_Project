{
  "nbformat": 4,
  "nbformat_minor": 0,
  "metadata": {
    "colab": {
      "provenance": [],
      "collapsed_sections": []
    },
    "kernelspec": {
      "name": "python3",
      "display_name": "Python 3"
    },
    "language_info": {
      "name": "python"
    }
  },
  "cells": [
    {
      "cell_type": "code",
      "execution_count": 22,
      "metadata": {
        "colab": {
          "base_uri": "https://localhost:8080/"
        },
        "id": "v4Spi2uO5o2f",
        "outputId": "77ab149a-da6c-48d6-e060-6fda74bdf212"
      },
      "outputs": [
        {
          "output_type": "stream",
          "name": "stdout",
          "text": [
            "Get:1 https://cloud.r-project.org/bin/linux/ubuntu bionic-cran40/ InRelease [3,626 B]\n",
            "Ign:2 https://developer.download.nvidia.com/compute/machine-learning/repos/ubuntu1804/x86_64  InRelease\n",
            "Get:3 http://security.ubuntu.com/ubuntu bionic-security InRelease [88.7 kB]\n",
            "Hit:4 http://ppa.launchpad.net/c2d4u.team/c2d4u4.0+/ubuntu bionic InRelease\n",
            "Hit:5 http://archive.ubuntu.com/ubuntu bionic InRelease\n",
            "Hit:6 https://developer.download.nvidia.com/compute/cuda/repos/ubuntu1804/x86_64  InRelease\n",
            "Hit:7 https://developer.download.nvidia.com/compute/machine-learning/repos/ubuntu1804/x86_64  Release\n",
            "Get:8 http://archive.ubuntu.com/ubuntu bionic-updates InRelease [88.7 kB]\n",
            "Hit:9 http://ppa.launchpad.net/cran/libgit2/ubuntu bionic InRelease\n",
            "Hit:11 http://ppa.launchpad.net/deadsnakes/ppa/ubuntu bionic InRelease\n",
            "Get:12 http://archive.ubuntu.com/ubuntu bionic-backports InRelease [83.3 kB]\n",
            "Hit:13 http://ppa.launchpad.net/graphics-drivers/ppa/ubuntu bionic InRelease\n",
            "Get:14 http://archive.ubuntu.com/ubuntu bionic-updates/main amd64 Packages [3,472 kB]\n",
            "Fetched 3,737 kB in 4s (887 kB/s)\n",
            "Reading package lists... Done\n"
          ]
        }
      ],
      "source": [
        "import os\n",
        "\n",
        "spark_version = 'spark-3.1.3'\n",
        "os.environ['SPARK_VERSION']=spark_version\n",
        "\n",
        "# Install Spark and Java\n",
        "!apt-get update\n",
        "!apt-get install openjdk-11-jdk-headless -qq > /dev/null\n",
        "!wget -q http://www.apache.org/dist/spark/$SPARK_VERSION/$SPARK_VERSION-bin-hadoop2.7.tgz\n",
        "!tar xf $SPARK_VERSION-bin-hadoop2.7.tgz\n",
        "!pip install -q findspark\n",
        "\n",
        "# Set Environment Variables\n",
        "import os\n",
        "os.environ[\"JAVA_HOME\"] = \"/usr/lib/jvm/java-11-openjdk-amd64\"\n",
        "os.environ[\"SPARK_HOME\"] = f\"/content/{spark_version}-bin-hadoop2.7\"\n",
        "\n",
        "# Start a SparkSession\n",
        "import findspark\n",
        "findspark.init()"
      ]
    },
    {
      "cell_type": "code",
      "source": [
        "# Start Spark session\n",
        "from pyspark.sql import SparkSession\n",
        "!wget https://jdbc.postgresql.org/download/postgresql-42.2.9.jar"
      ],
      "metadata": {
        "colab": {
          "base_uri": "https://localhost:8080/"
        },
        "id": "LajsFObV5waf",
        "outputId": "ded3122c-f1a4-44fb-e446-b4cf572b94e3"
      },
      "execution_count": 23,
      "outputs": [
        {
          "output_type": "stream",
          "name": "stdout",
          "text": [
            "--2022-11-09 20:07:14--  https://jdbc.postgresql.org/download/postgresql-42.2.9.jar\n",
            "Resolving jdbc.postgresql.org (jdbc.postgresql.org)... 72.32.157.228, 2001:4800:3e1:1::228\n",
            "Connecting to jdbc.postgresql.org (jdbc.postgresql.org)|72.32.157.228|:443... connected.\n",
            "HTTP request sent, awaiting response... 200 OK\n",
            "Length: 914037 (893K) [application/java-archive]\n",
            "Saving to: ‘postgresql-42.2.9.jar.2’\n",
            "\n",
            "postgresql-42.2.9.j 100%[===================>] 892.61K  1.25MB/s    in 0.7s    \n",
            "\n",
            "2022-11-09 20:07:16 (1.25 MB/s) - ‘postgresql-42.2.9.jar.2’ saved [914037/914037]\n",
            "\n"
          ]
        }
      ]
    },
    {
      "cell_type": "code",
      "source": [
        "spark = SparkSession.builder.appName(\"CloudETL\").config(\"spark.driver.extraClassPath\",\"/content/postgresql-42.2.9.jar\").getOrCreate()"
      ],
      "metadata": {
        "id": "Un-jDVK57WQF"
      },
      "execution_count": 24,
      "outputs": []
    },
    {
      "cell_type": "markdown",
      "source": [
        "# Extract\n"
      ],
      "metadata": {
        "id": "0heMUljPas7B"
      }
    },
    {
      "cell_type": "code",
      "source": [
        "# Read in data from S3 Buckets\n",
        "from pyspark import SparkFiles\n",
        "url = \"https://county-pop-df.s3.us-west-2.amazonaws.com/health_outcomes_df.csv\"\n",
        "spark.sparkContext.addFile(url)\n",
        "health_outcomes_df = spark.read.csv(SparkFiles.get(\"health_outcomes_df.csv\"), sep=\",\", header=True,)"
      ],
      "metadata": {
        "id": "8FzjYpcQ7afm"
      },
      "execution_count": 25,
      "outputs": []
    },
    {
      "cell_type": "code",
      "source": [
        "url = \"https://county-pop-df.s3.us-west-2.amazonaws.com/health_risk_behaviors_df.csv\"\n",
        "spark.sparkContext.addFile(url)\n",
        "health_risk_behaviors_df = spark.read.csv(SparkFiles.get(\"health_risk_behaviors_df.csv\"), sep=\",\", header=True,)"
      ],
      "metadata": {
        "id": "f5mbkMhq8gYF"
      },
      "execution_count": 26,
      "outputs": []
    },
    {
      "cell_type": "code",
      "source": [
        "url = \"https://county-pop-df.s3.us-west-2.amazonaws.com/health_status_df.csv\"\n",
        "spark.sparkContext.addFile(url)\n",
        "health_status_df = spark.read.csv(SparkFiles.get(\"health_status_df.csv\"), sep=\",\", header=True,)"
      ],
      "metadata": {
        "id": "_LKdHycPwQl8"
      },
      "execution_count": 27,
      "outputs": []
    },
    {
      "cell_type": "code",
      "source": [
        "url = \"https://county-pop-df.s3.us-west-2.amazonaws.com/prevention_df.csv\"\n",
        "spark.sparkContext.addFile(url)\n",
        "prevention_df = spark.read.csv(SparkFiles.get(\"prevention_df.csv\"), sep=\",\", header=True,)"
      ],
      "metadata": {
        "id": "J6n5ZjBAwY_M"
      },
      "execution_count": 28,
      "outputs": []
    },
    {
      "cell_type": "code",
      "source": [
        "url = \"https://county-pop-df.s3.us-west-2.amazonaws.com/population_df.csv\"\n",
        "spark.sparkContext.addFile(url)\n",
        "population_df = spark.read.csv(SparkFiles.get(\"population_df.csv\"), sep=\",\", header=True,)"
      ],
      "metadata": {
        "id": "Kxa9WXQSwZGf"
      },
      "execution_count": 29,
      "outputs": []
    },
    {
      "cell_type": "code",
      "source": [
        "url = \"https://county-pop-df.s3.us-west-2.amazonaws.com/county_info_df.csv\"\n",
        "spark.sparkContext.addFile(url)\n",
        "county_info_df = spark.read.csv(SparkFiles.get(\"county_info_df.csv\"), sep=\",\", header=True,)"
      ],
      "metadata": {
        "id": "W_syFr0eEDuX"
      },
      "execution_count": 30,
      "outputs": []
    },
    {
      "cell_type": "code",
      "source": [
        "health_outcomes_df.show(5)"
      ],
      "metadata": {
        "colab": {
          "base_uri": "https://localhost:8080/"
        },
        "id": "_Th4IcjIwYuu",
        "outputId": "1c444fd5-8d02-4ba8-c8c6-02b4f369f7fd"
      },
      "execution_count": 10,
      "outputs": [
        {
          "output_type": "stream",
          "name": "stdout",
          "text": [
            "+----------+---------+-------+------+------+--------+------+----+---+----------+--------+-------+---------+------+\n",
            "|CountyFIPS|ARTHRITIS|CASTHMA|BPHIGH|CANCER|HIGHCHOL|KIDNEY|COPD|CHD|DEPRESSION|DIABETES|OBESITY|TEETHLOST|STROKE|\n",
            "+----------+---------+-------+------+------+--------+------+----+---+----------+--------+-------+---------+------+\n",
            "|     40065|     23.0|    9.7|  34.1|   6.1|    31.3|   3.1| 7.1|6.3|      21.2|    11.8|   36.3|     18.8|   3.3|\n",
            "|     17101|     25.6|    9.5|  33.3|   6.5|    29.3|   2.9| 8.0|6.4|      21.2|    10.7|   38.8|     17.2|   3.4|\n",
            "|     20009|     23.7|    9.7|  32.9|   6.4|    30.4|   2.9| 6.7|5.8|      19.0|    11.0|   37.0|     17.2|   3.1|\n",
            "|      2020|     20.0|    9.2|  29.8|   6.0|    27.8|   2.5| 5.0|4.8|      17.0|     8.3|   30.7|     12.2|   2.7|\n",
            "|     40137|     25.7|   10.5|  36.0|   6.6|    30.0|   3.0| 8.4|6.8|      23.9|    10.5|   36.5|     20.6|   3.5|\n",
            "+----------+---------+-------+------+------+--------+------+----+---+----------+--------+-------+---------+------+\n",
            "only showing top 5 rows\n",
            "\n"
          ]
        }
      ]
    },
    {
      "cell_type": "code",
      "source": [
        "health_outcomes_df.printSchema()"
      ],
      "metadata": {
        "colab": {
          "base_uri": "https://localhost:8080/"
        },
        "id": "8Vi826XjB7M2",
        "outputId": "281147a7-c63a-4698-ed05-4fd3e1e789ae"
      },
      "execution_count": 36,
      "outputs": [
        {
          "output_type": "stream",
          "name": "stdout",
          "text": [
            "root\n",
            " |-- CountyFIPS: string (nullable = true)\n",
            " |-- ARTHRITIS: string (nullable = true)\n",
            " |-- CASTHMA: string (nullable = true)\n",
            " |-- BPHIGH: string (nullable = true)\n",
            " |-- CANCER: string (nullable = true)\n",
            " |-- HIGHCHOL: string (nullable = true)\n",
            " |-- KIDNEY: string (nullable = true)\n",
            " |-- COPD: string (nullable = true)\n",
            " |-- CHD: string (nullable = true)\n",
            " |-- DEPRESSION: string (nullable = true)\n",
            " |-- DIABETES: string (nullable = true)\n",
            " |-- OBESITY: string (nullable = true)\n",
            " |-- TEETHLOST: string (nullable = true)\n",
            " |-- STROKE: string (nullable = true)\n",
            "\n"
          ]
        }
      ]
    },
    {
      "cell_type": "code",
      "source": [
        "health_risk_behaviors_df.show(5)"
      ],
      "metadata": {
        "colab": {
          "base_uri": "https://localhost:8080/"
        },
        "id": "MkLaq5HIJ42v",
        "outputId": "98cd4c2f-c9de-4486-e53e-b815bfd5bbca"
      },
      "execution_count": 11,
      "outputs": [
        {
          "output_type": "stream",
          "name": "stdout",
          "text": [
            "+----------+-----+--------+----+-----+\n",
            "|CountyFIPS|BINGE|CSMOKING| LPA|SLEEP|\n",
            "+----------+-----+--------+----+-----+\n",
            "|     40065| 13.6|    17.4|38.5| 37.7|\n",
            "|     17101| 21.5|    21.7|30.3| 36.8|\n",
            "|     20009| 17.1|    18.7|32.1| 34.2|\n",
            "|      2020| 18.2|    15.3|20.5| 34.4|\n",
            "|     40137| 13.5|    21.8|39.1| 37.3|\n",
            "+----------+-----+--------+----+-----+\n",
            "only showing top 5 rows\n",
            "\n"
          ]
        }
      ]
    },
    {
      "cell_type": "code",
      "source": [
        "health_status_df.show(5)"
      ],
      "metadata": {
        "colab": {
          "base_uri": "https://localhost:8080/"
        },
        "id": "vypkByAaJmqa",
        "outputId": "a2de7a1f-6daf-46db-c6a0-8461a645599f"
      },
      "execution_count": 12,
      "outputs": [
        {
          "output_type": "stream",
          "name": "stdout",
          "text": [
            "+----------+-----+-----+-----+\n",
            "|CountyFIPS|MHLTH|PHLTH|GHLTH|\n",
            "+----------+-----+-----+-----+\n",
            "|     40065| 15.0| 13.8| 22.6|\n",
            "|     17101| 15.8| 13.9| 20.9|\n",
            "|     20009| 15.4| 12.5| 20.0|\n",
            "|      2020| 12.4| 10.1| 15.3|\n",
            "|     40137| 16.7| 14.6| 22.2|\n",
            "+----------+-----+-----+-----+\n",
            "only showing top 5 rows\n",
            "\n"
          ]
        }
      ]
    },
    {
      "cell_type": "code",
      "source": [
        "prevention_df.show(5)"
      ],
      "metadata": {
        "colab": {
          "base_uri": "https://localhost:8080/"
        },
        "id": "ReU1AsB6wtEk",
        "outputId": "b36faac3-ccbb-42f3-86e5-dd809f388125"
      },
      "execution_count": 13,
      "outputs": [
        {
          "output_type": "stream",
          "name": "stdout",
          "text": [
            "+----------+------+-------+------+-----+----------+--------+--------+------------+-----+-----+\n",
            "|CountyFIPS|ACCESS|CHECKUP|DENTAL|BPMED|CHOLSCREEN|MAMMOUSE|CERVICAL|COLON_SCREEN|COREM|COREW|\n",
            "+----------+------+-------+------+-----+----------+--------+--------+------------+-----+-----+\n",
            "|     40065|  24.2|   74.1|  61.1| 57.9|      83.8|    71.5|    83.0|        58.7| 25.2| 23.7|\n",
            "|     17101|  18.9|   73.4|  57.8| 56.8|      83.0|    68.7|    82.2|        61.2| 24.7| 20.6|\n",
            "|     20009|  20.5|   72.6|  59.3| 56.8|      82.1|    69.0|    82.6|        58.4| 24.4| 22.3|\n",
            "|      2020|  13.6|   68.8|  68.5| 48.5|      81.2|    67.4|    84.1|        58.4| 20.8| 25.1|\n",
            "|     40137|  20.5|   74.5|  58.3| 57.7|      82.8|    69.6|    82.3|        54.6| 25.5| 27.2|\n",
            "+----------+------+-------+------+-----+----------+--------+--------+------------+-----+-----+\n",
            "only showing top 5 rows\n",
            "\n"
          ]
        }
      ]
    },
    {
      "cell_type": "code",
      "source": [
        "population_df.show(5)"
      ],
      "metadata": {
        "colab": {
          "base_uri": "https://localhost:8080/"
        },
        "id": "NSyb0ZdtwoCZ",
        "outputId": "75251186-2581-408e-e6f5-43db01b113eb"
      },
      "execution_count": 14,
      "outputs": [
        {
          "output_type": "stream",
          "name": "stdout",
          "text": [
            "+----------+-------+----------------+----------+\n",
            "|CountyFIPS|Density|total_population|RuralUrban|\n",
            "+----------+-------+----------------+----------+\n",
            "|      1001|   94.3|           56059|     Rural|\n",
            "|      1003|  141.8|          225463|     Rural|\n",
            "|      1005|   27.8|           24575|     Rural|\n",
            "|      1007|   36.0|           22427|     Rural|\n",
            "|      1009|   89.9|           57997|     Rural|\n",
            "+----------+-------+----------------+----------+\n",
            "only showing top 5 rows\n",
            "\n"
          ]
        }
      ]
    },
    {
      "cell_type": "code",
      "source": [
        "county_info_df.show(5)"
      ],
      "metadata": {
        "colab": {
          "base_uri": "https://localhost:8080/"
        },
        "id": "hpBCKhxhEkYC",
        "outputId": "b188c5db-08a0-4802-b973-f3cb62196484"
      },
      "execution_count": 15,
      "outputs": [
        {
          "output_type": "stream",
          "name": "stdout",
          "text": [
            "+----------+----------+---------+\n",
            "|CountyFIPS|CountyName|StateDesc|\n",
            "+----------+----------+---------+\n",
            "|     40065|   Jackson| Oklahoma|\n",
            "|     17101|  Lawrence| Illinois|\n",
            "|     20009|    Barton|   Kansas|\n",
            "|      2020| Anchorage|   Alaska|\n",
            "|     40137|  Stephens| Oklahoma|\n",
            "+----------+----------+---------+\n",
            "only showing top 5 rows\n",
            "\n"
          ]
        }
      ]
    },
    {
      "cell_type": "markdown",
      "source": [
        "# Load"
      ],
      "metadata": {
        "id": "frzYPlE8a_LU"
      }
    },
    {
      "cell_type": "code",
      "source": [
        "from getpass import getpass\n",
        "\n",
        "password = getpass('enter pass words here')"
      ],
      "metadata": {
        "colab": {
          "base_uri": "https://localhost:8080/"
        },
        "id": "AjJP2WMVE6f7",
        "outputId": "7e8d8aa5-647d-4bd2-a90e-27478dc47b6c"
      },
      "execution_count": 31,
      "outputs": [
        {
          "name": "stdout",
          "output_type": "stream",
          "text": [
            "enter pass words here··········\n"
          ]
        }
      ]
    },
    {
      "cell_type": "code",
      "source": [
        "#configure settings for RDS\n",
        "mode=\"append\"\n",
        "jdbc_url = \"jdbc:postgresql://b-team-final-project.cct7ahzel1ur.us-west-2.rds.amazonaws.com:5432/B_Team_Final_Project\"\n",
        "config = {\"user\":\"postgres\",\n",
        "          \"password\": password,\n",
        "          \"driver\":\"org.postgresql.Driver\"}"
      ],
      "metadata": {
        "id": "Y90UZBQWE6Yx"
      },
      "execution_count": 32,
      "outputs": []
    },
    {
      "cell_type": "code",
      "source": [
        "#load DataFrames into pgAdmin\n",
        "# Write population_df to county_population table in pg\n",
        "population_df.write.jdbc(url=jdbc_url, table='county_population', mode=mode, properties=config)"
      ],
      "metadata": {
        "id": "DwNwB7ECE6L0"
      },
      "execution_count": 33,
      "outputs": []
    },
    {
      "cell_type": "code",
      "source": [
        "# Write county_info_df to county_info table \n",
        "county_info_df.write.jdbc(url=jdbc_url, table='county_info', mode=mode, properties=config)"
      ],
      "metadata": {
        "id": "WQbPPd_KE6RF"
      },
      "execution_count": 34,
      "outputs": []
    },
    {
      "cell_type": "code",
      "source": [
        "# Write health_outcomes_df to health_outcomes table \n",
        "health_outcomes_df.write.jdbc(url=jdbc_url, table='health_outcomes', mode=mode, properties=config)"
      ],
      "metadata": {
        "id": "H86IPQxvGZ1G"
      },
      "execution_count": 37,
      "outputs": []
    },
    {
      "cell_type": "code",
      "source": [
        "# Write health_risk_behaviors_df to health_risk_behaviors table \n",
        "health_risk_behaviors_df.write.jdbc(url=jdbc_url, table='health_risk_behaviors', mode=mode, properties=config)"
      ],
      "metadata": {
        "id": "a3h3gllVGZym"
      },
      "execution_count": 38,
      "outputs": []
    },
    {
      "cell_type": "code",
      "source": [
        "# Write health_status_df to health_status table \n",
        "health_status_df.write.jdbc(url=jdbc_url, table='health_status', mode=mode, properties=config)"
      ],
      "metadata": {
        "id": "WmMbMJ0aGZvw"
      },
      "execution_count": 39,
      "outputs": []
    },
    {
      "cell_type": "code",
      "source": [
        "# Write prevention_df to prevention table \n",
        "prevention_df.write.jdbc(url=jdbc_url, table='prevention', mode=mode, properties=config)"
      ],
      "metadata": {
        "id": "Iv8N6VUI_ybG"
      },
      "execution_count": 40,
      "outputs": []
    }
  ]
}